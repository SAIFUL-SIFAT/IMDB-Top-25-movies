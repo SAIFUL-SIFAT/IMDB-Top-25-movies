{
 "cells": [
  {
   "cell_type": "code",
   "execution_count": null,
   "metadata": {},
   "outputs": [],
   "source": [
    "pip install BeautifulSoup requests pandas"
   ]
  },
  {
   "cell_type": "code",
   "execution_count": 8,
   "metadata": {},
   "outputs": [],
   "source": [
    "from bs4 import BeautifulSoup\n",
    "import requests\n",
    "import pandas as pd\n"
   ]
  },
  {
   "cell_type": "code",
   "execution_count": 13,
   "metadata": {},
   "outputs": [],
   "source": [
    "url = 'http://www.imdb.com/chart/top'\n",
    "headers = {\n",
    "    'User-Agent': 'Mozilla/5.0 (Windows NT 10.0; Win64; x64) AppleWebKit/537.36 (KHTML, like Gecko) Chrome/91.0.4472.124 Safari/537.36'\n",
    "}"
   ]
  },
  {
   "cell_type": "code",
   "execution_count": 16,
   "metadata": {},
   "outputs": [
    {
     "data": {
      "text/plain": [
       "<Response [200]>"
      ]
     },
     "execution_count": 16,
     "metadata": {},
     "output_type": "execute_result"
    }
   ],
   "source": [
    "page = requests.get(url, headers=headers)\n",
    "page"
   ]
  },
  {
   "cell_type": "code",
   "execution_count": 68,
   "metadata": {},
   "outputs": [],
   "source": [
    "#page.content"
   ]
  },
  {
   "cell_type": "code",
   "execution_count": 67,
   "metadata": {},
   "outputs": [],
   "source": [
    "soup= BeautifulSoup(page.content,\"html.parser\")\n",
    "#print(soup.prettify())"
   ]
  },
  {
   "cell_type": "code",
   "execution_count": 27,
   "metadata": {},
   "outputs": [
    {
     "data": {
      "text/plain": [
       "[<h3 class=\"ipc-title__text\">IMDb Charts</h3>,\n",
       " <h3 class=\"ipc-title__text\">1. The Shawshank Redemption</h3>,\n",
       " <h3 class=\"ipc-title__text\">2. The Godfather</h3>,\n",
       " <h3 class=\"ipc-title__text\">3. The Dark Knight</h3>,\n",
       " <h3 class=\"ipc-title__text\">4. The Godfather Part II</h3>,\n",
       " <h3 class=\"ipc-title__text\">5. 12 Angry Men</h3>,\n",
       " <h3 class=\"ipc-title__text\">6. The Lord of the Rings: The Return of the King</h3>,\n",
       " <h3 class=\"ipc-title__text\">7. Schindler's List</h3>,\n",
       " <h3 class=\"ipc-title__text\">8. Pulp Fiction</h3>,\n",
       " <h3 class=\"ipc-title__text\">9. The Lord of the Rings: The Fellowship of the Ring</h3>,\n",
       " <h3 class=\"ipc-title__text\">10. Il buono, il brutto, il cattivo</h3>,\n",
       " <h3 class=\"ipc-title__text\">11. Forrest Gump</h3>,\n",
       " <h3 class=\"ipc-title__text\">12. The Lord of the Rings: The Two Towers</h3>,\n",
       " <h3 class=\"ipc-title__text\">13. Fight Club</h3>,\n",
       " <h3 class=\"ipc-title__text\">14. Inception</h3>,\n",
       " <h3 class=\"ipc-title__text\">15. Star Wars: Episode V - The Empire Strikes Back</h3>,\n",
       " <h3 class=\"ipc-title__text\">16. The Matrix</h3>,\n",
       " <h3 class=\"ipc-title__text\">17. Goodfellas</h3>,\n",
       " <h3 class=\"ipc-title__text\">18. One Flew Over the Cuckoo's Nest</h3>,\n",
       " <h3 class=\"ipc-title__text\">19. Interstellar</h3>,\n",
       " <h3 class=\"ipc-title__text\">20. Se7en</h3>,\n",
       " <h3 class=\"ipc-title__text\">21. It's a Wonderful Life</h3>,\n",
       " <h3 class=\"ipc-title__text\">22. Shichinin no samurai</h3>,\n",
       " <h3 class=\"ipc-title__text\">23. The Silence of the Lambs</h3>,\n",
       " <h3 class=\"ipc-title__text\">24. Saving Private Ryan</h3>,\n",
       " <h3 class=\"ipc-title__text\">25. Cidade de Deus</h3>,\n",
       " <h3 class=\"ipc-title__text\">Recently viewed</h3>]"
      ]
     },
     "execution_count": 27,
     "metadata": {},
     "output_type": "execute_result"
    }
   ],
   "source": [
    "movie_=soup.find_all('h3',class_='ipc-title__text')\n",
    "movie_"
   ]
  },
  {
   "cell_type": "code",
   "execution_count": 52,
   "metadata": {},
   "outputs": [
    {
     "data": {
      "text/plain": [
       "['1. The Shawshank Redemption',\n",
       " '2. The Godfather',\n",
       " '3. The Dark Knight',\n",
       " '4. The Godfather Part II',\n",
       " '5. 12 Angry Men',\n",
       " '6. The Lord of the Rings: The Return of the King',\n",
       " \"7. Schindler's List\",\n",
       " '8. Pulp Fiction',\n",
       " '9. The Lord of the Rings: The Fellowship of the Ring',\n",
       " '10. Il buono, il brutto, il cattivo',\n",
       " '11. Forrest Gump',\n",
       " '12. The Lord of the Rings: The Two Towers',\n",
       " '13. Fight Club',\n",
       " '14. Inception',\n",
       " '15. Star Wars: Episode V - The Empire Strikes Back',\n",
       " '16. The Matrix',\n",
       " '17. Goodfellas',\n",
       " \"18. One Flew Over the Cuckoo's Nest\",\n",
       " '19. Interstellar',\n",
       " '20. Se7en',\n",
       " \"21. It's a Wonderful Life\",\n",
       " '22. Shichinin no samurai',\n",
       " '23. The Silence of the Lambs',\n",
       " '24. Saving Private Ryan',\n",
       " '25. Cidade de Deus']"
      ]
     },
     "execution_count": 52,
     "metadata": {},
     "output_type": "execute_result"
    }
   ],
   "source": [
    "movies=[]\n",
    "for movie in movie_:\n",
    "    movies.append(movie.get_text().strip())\n",
    "movies=movies[1:-1]\n",
    "movies"
   ]
  },
  {
   "cell_type": "code",
   "execution_count": 29,
   "metadata": {},
   "outputs": [
    {
     "data": {
      "text/plain": [
       "[<span class=\"ipc-rating-star--rating\">9.3</span>,\n",
       " <span class=\"ipc-rating-star--rating\">9.2</span>,\n",
       " <span class=\"ipc-rating-star--rating\">9.0</span>,\n",
       " <span class=\"ipc-rating-star--rating\">9.0</span>,\n",
       " <span class=\"ipc-rating-star--rating\">9.0</span>,\n",
       " <span class=\"ipc-rating-star--rating\">9.0</span>,\n",
       " <span class=\"ipc-rating-star--rating\">9.0</span>,\n",
       " <span class=\"ipc-rating-star--rating\">8.9</span>,\n",
       " <span class=\"ipc-rating-star--rating\">8.9</span>,\n",
       " <span class=\"ipc-rating-star--rating\">8.8</span>,\n",
       " <span class=\"ipc-rating-star--rating\">8.8</span>,\n",
       " <span class=\"ipc-rating-star--rating\">8.8</span>,\n",
       " <span class=\"ipc-rating-star--rating\">8.8</span>,\n",
       " <span class=\"ipc-rating-star--rating\">8.8</span>,\n",
       " <span class=\"ipc-rating-star--rating\">8.7</span>,\n",
       " <span class=\"ipc-rating-star--rating\">8.7</span>,\n",
       " <span class=\"ipc-rating-star--rating\">8.7</span>,\n",
       " <span class=\"ipc-rating-star--rating\">8.7</span>,\n",
       " <span class=\"ipc-rating-star--rating\">8.7</span>,\n",
       " <span class=\"ipc-rating-star--rating\">8.6</span>,\n",
       " <span class=\"ipc-rating-star--rating\">8.6</span>,\n",
       " <span class=\"ipc-rating-star--rating\">8.6</span>,\n",
       " <span class=\"ipc-rating-star--rating\">8.6</span>,\n",
       " <span class=\"ipc-rating-star--rating\">8.6</span>,\n",
       " <span class=\"ipc-rating-star--rating\">8.6</span>]"
      ]
     },
     "execution_count": 29,
     "metadata": {},
     "output_type": "execute_result"
    }
   ],
   "source": [
    "rating_=soup.find_all('span',class_='ipc-rating-star--rating')\n",
    "rating_"
   ]
  },
  {
   "cell_type": "code",
   "execution_count": 30,
   "metadata": {},
   "outputs": [
    {
     "data": {
      "text/plain": [
       "['9.3',\n",
       " '9.2',\n",
       " '9.0',\n",
       " '9.0',\n",
       " '9.0',\n",
       " '9.0',\n",
       " '9.0',\n",
       " '8.9',\n",
       " '8.9',\n",
       " '8.8',\n",
       " '8.8',\n",
       " '8.8',\n",
       " '8.8',\n",
       " '8.8',\n",
       " '8.7',\n",
       " '8.7',\n",
       " '8.7',\n",
       " '8.7',\n",
       " '8.7',\n",
       " '8.6',\n",
       " '8.6',\n",
       " '8.6',\n",
       " '8.6',\n",
       " '8.6',\n",
       " '8.6']"
      ]
     },
     "execution_count": 30,
     "metadata": {},
     "output_type": "execute_result"
    }
   ],
   "source": [
    "ratings=[]\n",
    "for rating in rating_:\n",
    "    ratings.append(rating.get_text().strip())\n",
    "ratings"
   ]
  },
  {
   "cell_type": "code",
   "execution_count": 38,
   "metadata": {},
   "outputs": [
    {
     "data": {
      "text/plain": [
       "['1994',\n",
       " '1972',\n",
       " '2008',\n",
       " '1974',\n",
       " '1957',\n",
       " '2003',\n",
       " '1993',\n",
       " '1994',\n",
       " '2001',\n",
       " '1966',\n",
       " '1994',\n",
       " '2002',\n",
       " '1999',\n",
       " '2010',\n",
       " '1980',\n",
       " '1999',\n",
       " '1990',\n",
       " '1975',\n",
       " '2014',\n",
       " '1995',\n",
       " '1946',\n",
       " '1954',\n",
       " '1991',\n",
       " '1998',\n",
       " '2002']"
      ]
     },
     "execution_count": 38,
     "metadata": {},
     "output_type": "execute_result"
    }
   ],
   "source": [
    "spans = soup.find_all('span', class_='sc-732ea2d-6 gbTbSy cli-title-metadata-item')\n",
    "\n",
    "# Extract years\n",
    "years = [span.text for span in spans if span.text.isdigit() and len(span.text) == 4]\n",
    "years\n"
   ]
  },
  {
   "cell_type": "code",
   "execution_count": 53,
   "metadata": {},
   "outputs": [
    {
     "name": "stdout",
     "output_type": "stream",
     "text": [
      "25\n",
      "25\n",
      "25\n"
     ]
    }
   ],
   "source": [
    "print(len(movies))\n",
    "print(len(years))\n",
    "print(len(ratings))\n"
   ]
  },
  {
   "cell_type": "code",
   "execution_count": 55,
   "metadata": {},
   "outputs": [
    {
     "data": {
      "text/html": [
       "<div>\n",
       "<style scoped>\n",
       "    .dataframe tbody tr th:only-of-type {\n",
       "        vertical-align: middle;\n",
       "    }\n",
       "\n",
       "    .dataframe tbody tr th {\n",
       "        vertical-align: top;\n",
       "    }\n",
       "\n",
       "    .dataframe thead th {\n",
       "        text-align: right;\n",
       "    }\n",
       "</style>\n",
       "<table border=\"1\" class=\"dataframe\">\n",
       "  <thead>\n",
       "    <tr style=\"text-align: right;\">\n",
       "      <th></th>\n",
       "      <th>Movie Name</th>\n",
       "      <th>Year</th>\n",
       "      <th>Rating</th>\n",
       "    </tr>\n",
       "  </thead>\n",
       "  <tbody>\n",
       "    <tr>\n",
       "      <th>0</th>\n",
       "      <td>The Shawshank Redemption</td>\n",
       "      <td>1994</td>\n",
       "      <td>9.3</td>\n",
       "    </tr>\n",
       "    <tr>\n",
       "      <th>1</th>\n",
       "      <td>The Godfather</td>\n",
       "      <td>1972</td>\n",
       "      <td>9.2</td>\n",
       "    </tr>\n",
       "    <tr>\n",
       "      <th>2</th>\n",
       "      <td>The Dark Knight</td>\n",
       "      <td>2008</td>\n",
       "      <td>9.0</td>\n",
       "    </tr>\n",
       "    <tr>\n",
       "      <th>3</th>\n",
       "      <td>The Godfather Part II</td>\n",
       "      <td>1974</td>\n",
       "      <td>9.0</td>\n",
       "    </tr>\n",
       "    <tr>\n",
       "      <th>4</th>\n",
       "      <td>12 Angry Men</td>\n",
       "      <td>1957</td>\n",
       "      <td>9.0</td>\n",
       "    </tr>\n",
       "    <tr>\n",
       "      <th>5</th>\n",
       "      <td>The Lord of the Rings: The Return of the King</td>\n",
       "      <td>2003</td>\n",
       "      <td>9.0</td>\n",
       "    </tr>\n",
       "    <tr>\n",
       "      <th>6</th>\n",
       "      <td>Schindler's List</td>\n",
       "      <td>1993</td>\n",
       "      <td>9.0</td>\n",
       "    </tr>\n",
       "    <tr>\n",
       "      <th>7</th>\n",
       "      <td>Pulp Fiction</td>\n",
       "      <td>1994</td>\n",
       "      <td>8.9</td>\n",
       "    </tr>\n",
       "    <tr>\n",
       "      <th>8</th>\n",
       "      <td>The Lord of the Rings: The Fellowship of the Ring</td>\n",
       "      <td>2001</td>\n",
       "      <td>8.9</td>\n",
       "    </tr>\n",
       "    <tr>\n",
       "      <th>9</th>\n",
       "      <td>Il buono, il brutto, il cattivo</td>\n",
       "      <td>1966</td>\n",
       "      <td>8.8</td>\n",
       "    </tr>\n",
       "    <tr>\n",
       "      <th>10</th>\n",
       "      <td>Forrest Gump</td>\n",
       "      <td>1994</td>\n",
       "      <td>8.8</td>\n",
       "    </tr>\n",
       "    <tr>\n",
       "      <th>11</th>\n",
       "      <td>The Lord of the Rings: The Two Towers</td>\n",
       "      <td>2002</td>\n",
       "      <td>8.8</td>\n",
       "    </tr>\n",
       "    <tr>\n",
       "      <th>12</th>\n",
       "      <td>Fight Club</td>\n",
       "      <td>1999</td>\n",
       "      <td>8.8</td>\n",
       "    </tr>\n",
       "    <tr>\n",
       "      <th>13</th>\n",
       "      <td>Inception</td>\n",
       "      <td>2010</td>\n",
       "      <td>8.8</td>\n",
       "    </tr>\n",
       "    <tr>\n",
       "      <th>14</th>\n",
       "      <td>Star Wars: Episode V - The Empire Strikes Back</td>\n",
       "      <td>1980</td>\n",
       "      <td>8.7</td>\n",
       "    </tr>\n",
       "    <tr>\n",
       "      <th>15</th>\n",
       "      <td>The Matrix</td>\n",
       "      <td>1999</td>\n",
       "      <td>8.7</td>\n",
       "    </tr>\n",
       "    <tr>\n",
       "      <th>16</th>\n",
       "      <td>Goodfellas</td>\n",
       "      <td>1990</td>\n",
       "      <td>8.7</td>\n",
       "    </tr>\n",
       "    <tr>\n",
       "      <th>17</th>\n",
       "      <td>One Flew Over the Cuckoo's Nest</td>\n",
       "      <td>1975</td>\n",
       "      <td>8.7</td>\n",
       "    </tr>\n",
       "    <tr>\n",
       "      <th>18</th>\n",
       "      <td>Interstellar</td>\n",
       "      <td>2014</td>\n",
       "      <td>8.7</td>\n",
       "    </tr>\n",
       "    <tr>\n",
       "      <th>19</th>\n",
       "      <td>Se7en</td>\n",
       "      <td>1995</td>\n",
       "      <td>8.6</td>\n",
       "    </tr>\n",
       "    <tr>\n",
       "      <th>20</th>\n",
       "      <td>It's a Wonderful Life</td>\n",
       "      <td>1946</td>\n",
       "      <td>8.6</td>\n",
       "    </tr>\n",
       "    <tr>\n",
       "      <th>21</th>\n",
       "      <td>Shichinin no samurai</td>\n",
       "      <td>1954</td>\n",
       "      <td>8.6</td>\n",
       "    </tr>\n",
       "    <tr>\n",
       "      <th>22</th>\n",
       "      <td>The Silence of the Lambs</td>\n",
       "      <td>1991</td>\n",
       "      <td>8.6</td>\n",
       "    </tr>\n",
       "    <tr>\n",
       "      <th>23</th>\n",
       "      <td>Saving Private Ryan</td>\n",
       "      <td>1998</td>\n",
       "      <td>8.6</td>\n",
       "    </tr>\n",
       "    <tr>\n",
       "      <th>24</th>\n",
       "      <td>Cidade de Deus</td>\n",
       "      <td>2002</td>\n",
       "      <td>8.6</td>\n",
       "    </tr>\n",
       "  </tbody>\n",
       "</table>\n",
       "</div>"
      ],
      "text/plain": [
       "                                           Movie Name  Year Rating\n",
       "0                            The Shawshank Redemption  1994    9.3\n",
       "1                                       The Godfather  1972    9.2\n",
       "2                                     The Dark Knight  2008    9.0\n",
       "3                               The Godfather Part II  1974    9.0\n",
       "4                                        12 Angry Men  1957    9.0\n",
       "5       The Lord of the Rings: The Return of the King  2003    9.0\n",
       "6                                    Schindler's List  1993    9.0\n",
       "7                                        Pulp Fiction  1994    8.9\n",
       "8   The Lord of the Rings: The Fellowship of the Ring  2001    8.9\n",
       "9                     Il buono, il brutto, il cattivo  1966    8.8\n",
       "10                                       Forrest Gump  1994    8.8\n",
       "11              The Lord of the Rings: The Two Towers  2002    8.8\n",
       "12                                         Fight Club  1999    8.8\n",
       "13                                          Inception  2010    8.8\n",
       "14     Star Wars: Episode V - The Empire Strikes Back  1980    8.7\n",
       "15                                         The Matrix  1999    8.7\n",
       "16                                         Goodfellas  1990    8.7\n",
       "17                    One Flew Over the Cuckoo's Nest  1975    8.7\n",
       "18                                       Interstellar  2014    8.7\n",
       "19                                              Se7en  1995    8.6\n",
       "20                              It's a Wonderful Life  1946    8.6\n",
       "21                               Shichinin no samurai  1954    8.6\n",
       "22                           The Silence of the Lambs  1991    8.6\n",
       "23                                Saving Private Ryan  1998    8.6\n",
       "24                                     Cidade de Deus  2002    8.6"
      ]
     },
     "execution_count": 55,
     "metadata": {},
     "output_type": "execute_result"
    }
   ],
   "source": [
    "data=pd.DataFrame()\n",
    "data['Movie Name']= movies\n",
    "data['Year']=years\n",
    "data['Rating']=ratings\n",
    "data['Movie Name'] = data['Movie Name'].str.replace(r'^\\d+\\.\\s', '', regex=True)\n",
    "\n",
    "data.head(30)"
   ]
  },
  {
   "cell_type": "code",
   "execution_count": 59,
   "metadata": {},
   "outputs": [
    {
     "name": "stdout",
     "output_type": "stream",
     "text": [
      "   Movie Name                                         Year  Rating\n",
      "0                            The Shawshank Redemption  1994  9.3  \n",
      "1                                       The Godfather  1972  9.2  \n",
      "2                                     The Dark Knight  2008  9.0  \n",
      "3                               The Godfather Part II  1974  9.0  \n",
      "4                                        12 Angry Men  1957  9.0  \n",
      "5       The Lord of the Rings: The Return of the King  2003  9.0  \n",
      "6                                    Schindler's List  1993  9.0  \n",
      "7                                        Pulp Fiction  1994  8.9  \n",
      "8   The Lord of the Rings: The Fellowship of the Ring  2001  8.9  \n",
      "9                     Il buono, il brutto, il cattivo  1966  8.8  \n",
      "10                                       Forrest Gump  1994  8.8  \n",
      "11              The Lord of the Rings: The Two Towers  2002  8.8  \n",
      "12                                         Fight Club  1999  8.8  \n",
      "13                                          Inception  2010  8.8  \n",
      "14     Star Wars: Episode V - The Empire Strikes Back  1980  8.7  \n",
      "15                                         The Matrix  1999  8.7  \n",
      "16                                         Goodfellas  1990  8.7  \n",
      "17                    One Flew Over the Cuckoo's Nest  1975  8.7  \n",
      "18                                       Interstellar  2014  8.7  \n",
      "19                                              Se7en  1995  8.6  \n",
      "20                              It's a Wonderful Life  1946  8.6  \n",
      "21                               Shichinin no samurai  1954  8.6  \n",
      "22                           The Silence of the Lambs  1991  8.6  \n",
      "23                                Saving Private Ryan  1998  8.6  \n",
      "24                                     Cidade de Deus  2002  8.6  \n"
     ]
    }
   ],
   "source": [
    "pd.set_option('display.colheader_justify', 'left')  # Align headers to the left\n",
    "pd.set_option('display.unicode.east_asian_width', True)  # Adjust width for better alignment\n",
    "\n",
    "print(data)\n"
   ]
  },
  {
   "cell_type": "code",
   "execution_count": 65,
   "metadata": {},
   "outputs": [
    {
     "name": "stdout",
     "output_type": "stream",
     "text": [
      "   Movie Name                                         Year  Rating\n",
      "0                            The Shawshank Redemption  1994  9.3  \n",
      "1                                       The Godfather  1972  9.2  \n",
      "2                                     The Dark Knight  2008  9.0  \n",
      "3                               The Godfather Part II  1974  9.0  \n",
      "4                                        12 Angry Men  1957  9.0  \n",
      "5       The Lord of the Rings: The Return of the King  2003  9.0  \n",
      "6                                    Schindler's List  1993  9.0  \n",
      "7                                        Pulp Fiction  1994  8.9  \n",
      "8   The Lord of the Rings: The Fellowship of the Ring  2001  8.9  \n",
      "9                     Il buono, il brutto, il cattivo  1966  8.8  \n",
      "10                                       Forrest Gump  1994  8.8  \n",
      "11              The Lord of the Rings: The Two Towers  2002  8.8  \n",
      "12                                         Fight Club  1999  8.8  \n",
      "13                                          Inception  2010  8.8  \n",
      "14     Star Wars: Episode V - The Empire Strikes Back  1980  8.7  \n",
      "15                                         The Matrix  1999  8.7  \n",
      "16                                         Goodfellas  1990  8.7  \n",
      "17                    One Flew Over the Cuckoo's Nest  1975  8.7  \n",
      "18                                       Interstellar  2014  8.7  \n",
      "19                                              Se7en  1995  8.6  \n",
      "20                              It's a Wonderful Life  1946  8.6  \n",
      "21                               Shichinin no samurai  1954  8.6  \n",
      "22                           The Silence of the Lambs  1991  8.6  \n",
      "23                                Saving Private Ryan  1998  8.6  \n",
      "24                                     Cidade de Deus  2002  8.6  \n"
     ]
    }
   ],
   "source": [
    "data['Movie Name'] = data['Movie Name'].str.lstrip()\n",
    "print(data)\n"
   ]
  },
  {
   "cell_type": "code",
   "execution_count": 66,
   "metadata": {},
   "outputs": [],
   "source": [
    "data.to_csv('/home/sifat/my_files/projects/Movie_Rating_scrapper/top_25_movies_list.csv', index=False)\n"
   ]
  }
 ],
 "metadata": {
  "kernelspec": {
   "display_name": "uenv",
   "language": "python",
   "name": "python3"
  },
  "language_info": {
   "codemirror_mode": {
    "name": "ipython",
    "version": 3
   },
   "file_extension": ".py",
   "mimetype": "text/x-python",
   "name": "python",
   "nbconvert_exporter": "python",
   "pygments_lexer": "ipython3",
   "version": "3.12.3"
  }
 },
 "nbformat": 4,
 "nbformat_minor": 2
}
